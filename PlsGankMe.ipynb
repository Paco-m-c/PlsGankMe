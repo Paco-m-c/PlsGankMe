{
 "cells": [
  {
   "cell_type": "code",
   "execution_count": 1,
   "metadata": {},
   "outputs": [],
   "source": [
    "import math\n",
    "import pickle\n",
    "import statistics\n",
    "\n",
    "import matplotlib.pyplot as plt\n",
    "import scipy\n",
    "from numpy import block\n",
    "from riotwatcher import ApiError, LolWatcher\n",
    "\n",
    "import Ganks_top_bot as Gtb\n",
    "from Stats import Stats as St"
   ]
  },
  {
   "cell_type": "code",
   "execution_count": 2,
   "metadata": {},
   "outputs": [],
   "source": [
    "username = input(\"Enter your jungler username: \")"
   ]
  },
  {
   "cell_type": "code",
   "execution_count": 3,
   "metadata": {},
   "outputs": [],
   "source": [
    "%%script false --no-raise-error\n",
    "x_killPositions = pickle.load(open(\"x_killPositions.p\", \"rb\"))\n",
    "y_killPositions = pickle.load(open(\"y_killPositions.p\", \"rb\"))\n",
    "\n",
    "x_killPositions_aux,y_killPositions_aux = Gtb.get_kill_positions_by_name(username,start=0,count=100,minute=15,region='euw1')\n",
    "x_killPositions += x_killPositions_aux\n",
    "y_killPositions += y_killPositions_aux\n",
    "\n",
    "pickle.dump(x_killPositions, open(\"x_killPositions.p\", \"wb\"))\n",
    "pickle.dump(y_killPositions, open(\"y_killPositions.p\", \"wb\"))"
   ]
  },
  {
   "cell_type": "code",
   "execution_count": 4,
   "metadata": {},
   "outputs": [],
   "source": [
    "x_killPositions = pickle.load(open(\"x_killPositions.p\", \"rb\"))\n",
    "y_killPositions = pickle.load(open(\"y_killPositions.p\", \"rb\"))\n",
    "tops,bots,other = Gtb.get_num_ganks_per_lane_per_game(x_killPositions,y_killPositions)"
   ]
  },
  {
   "cell_type": "code",
   "execution_count": 6,
   "metadata": {},
   "outputs": [
    {
     "name": "stdout",
     "output_type": "stream",
     "text": [
      "c( 3, 0, 0, 1, 0, 1, 2, 3, 0, 0, 2, 1, 2, 0, 2, 1, 1, 0, 0, 1, 0, 0, 1, 0, 0, 1, 1, 2, 1, 0, 0, 3, 0, 3, 1, 2, 1, 1, 1, 1, 2, 0, 1, 2, 0, 2, 1, 0, 1, 0, 0, 4, 1, 0, 1, 0, 0, 2, 2, 1, 1, 0, 0, 1, 0, 1, 0, 1, 0, 1, 1, 2, 1, 0, 2, 1, 3, 3, 3, 3, 0, 1, 0, 2, 1, 0, 0, 3, 0, 1, 0, 0, 0, 1, 0, 1, 0, 1, 1, 1, 0, 0, 0, 0, 1, 0, 1, 2, 0, 0, 0, 0, 0, 2, 0, 0, 1, 1, 1, 1, 0, 0, 0, 0, 1, 1, 0, 0, 0, 0, 0, 0, 1, 1, 1, 0, 0, 1, 1, 1, 0, 2, 1, 0, 0, 2, 0, 0, 2, 2, 1, 1, 1, 2, 0, 1, 0, 1, 1, 1, 0, 0, 1, 0, 0, 0, 0, 0, 1, 1, 0, 0, 0, 0, 1, 1, 0, 1, 2, 1, 0, 0, 0, 2, 1, 0, 0, 1, 0, 0, 1, 0, 1, 0, 2, 1, 0, 1, 1, 1, 1, 0, 0, 0, 1, 1, 1, 2, 1, 0, 1, 1, 1, 1, 2, 0, 0, 0, 2, 1, 0, 0, 1, 1, 1, 0, 1, 1, 1, 1, 0, 2, 1, 0, 0, 1, 0, 1, 2, 0, 0, 0, 1, 1, 0, 0, 0, 1, 0, 1, 1, 2, 2, 3, 3, 1, 1, 2, 0, 0, 0, 3, 2, 0, 1, 1, 0, 0, 0, 0, 0, 0, 2, 2, 3)\n",
      "\n",
      "c( 1, 2, 1, 2, 0, 1, 2, 1, 1, 1, 0, 0, 1, 0, 0, 0, 1, 2, 1, 2, 0, 1, 2, 2, 1, 2, 1, 3, 0, 0, 3, 0, 1, 0, 4, 0, 0, 2, 0, 1, 1, 0, 4, 0, 1, 2, 0, 4, 0, 3, 3, 0, 1, 0, 4, 0, 3, 0, 3, 1, 0, 0, 0, 2, 1, 0, 0, 3, 0, 1, 0, 1, 1, 4, 4, 1, 1, 1, 0, 1, 2, 1, 0, 2, 3, 1, 4, 2, 0, 2, 2, 0, 0, 1, 0, 2, 3, 1, 0, 0, 2, 1, 0, 0, 2, 2, 1, 0, 1, 1, 0, 1, 1, 1, 0, 0, 2, 0, 2, 5, 1, 0, 2, 1, 1, 1, 0, 1, 0, 0, 4, 2, 1, 1, 1, 1, 3, 1, 2, 2, 2, 2, 1, 2, 1, 2, 1, 1, 1, 0, 2, 0, 1, 0, 1, 0, 1, 3, 2, 2, 0, 0, 3, 0, 0, 0, 1, 0, 1, 1, 0, 4, 1, 2, 2, 1, 1, 2, 1, 1, 0, 2, 1, 1, 1, 1, 3, 1, 2, 0, 3, 1, 1, 1, 0, 1, 2, 3, 1, 1, 0, 2, 1, 1, 0, 1, 3, 0, 3, 0, 0, 1, 4, 2, 2, 0, 0, 1, 4, 1, 2, 2, 3, 2, 2, 1, 2, 2, 1, 4, 1, 0, 2, 0, 0, 2, 0, 3, 1, 2, 0, 0, 0, 1, 2, 0, 0, 1, 0, 0, 1, 1, 1, 0, 0, 1, 0, 1, 3, 1, 3, 1, 0, 0, 2, 1, 1, 1, 4, 0, 0, 0, 1, 0, 1)\n"
     ]
    }
   ],
   "source": [
    "#Print the data in a format that can be used in R\n",
    "print(\"c(\",tops[0],end=\"\")\n",
    "for i in tops[1:]:\n",
    "    print(\",\",i,end=\"\")\n",
    "print(\")\")\n",
    "print()\n",
    "print(\"c(\",bots[0],end=\"\")\n",
    "for i in bots[1:]:\n",
    "    print(\",\",i,end=\"\")\n",
    "print(\")\")\n"
   ]
  }
 ],
 "metadata": {
  "kernelspec": {
   "display_name": "Python 3.8.10 64-bit",
   "language": "python",
   "name": "python3"
  },
  "language_info": {
   "codemirror_mode": {
    "name": "ipython",
    "version": 3
   },
   "file_extension": ".py",
   "mimetype": "text/x-python",
   "name": "python",
   "nbconvert_exporter": "python",
   "pygments_lexer": "ipython3",
   "version": "3.8.10"
  },
  "orig_nbformat": 4,
  "vscode": {
   "interpreter": {
    "hash": "916dbcbb3f70747c44a77c7bcd40155683ae19c65e1c03b4aa3499c5328201f1"
   }
  }
 },
 "nbformat": 4,
 "nbformat_minor": 2
}
